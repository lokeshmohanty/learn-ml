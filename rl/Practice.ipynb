{
 "cells": [
  {
   "cell_type": "code",
   "execution_count": 1,
   "id": "d4588499-e117-4426-b74b-7b04bcea3226",
   "metadata": {},
   "outputs": [],
   "source": [
    "import jax\n",
    "import jax.numpy as jnp\n",
    "from jax import Array\n",
    "from jaxtyping import Array, Float, PyTree\n",
    "from typing import Callable, Tuple\n",
    "import equinox as eqx\n",
    "import optax"
   ]
  },
  {
   "cell_type": "code",
   "execution_count": 2,
   "id": "b0afd41b-ec0e-4e98-9c9e-a0c0b48eb64f",
   "metadata": {},
   "outputs": [],
   "source": [
    "class Model(eqx.Module):\n",
    "    \"\"\"A simple neural network model\"\"\"\n",
    "\n",
    "    layers: list\n",
    "\n",
    "    def __init__(self, layers):\n",
    "        self.layers = layers\n",
    "\n",
    "    def __call__(self, x: Array) -> Array:\n",
    "        \"\"\"Forward pass of the model\"\"\"\n",
    "        for layer in self.layers:\n",
    "            x = layer(x)\n",
    "        return x\n",
    "\n"
   ]
  },
  {
   "cell_type": "code",
   "execution_count": 5,
   "id": "a07948d7-9a7c-4446-be9b-7d366f506954",
   "metadata": {},
   "outputs": [],
   "source": [
    "import torchvision\n",
    "import torch\n",
    "\n",
    "# Hyperparameters\n",
    "\n",
    "BATCH_SIZE = 64\n",
    "LEARNING_RATE = 3e-4\n",
    "STEPS = 300\n",
    "PRINT_EVERY = 30\n",
    "SEED = 5678\n",
    "\n",
    "key = jax.random.PRNGKey(SEED)\n",
    "\n",
    "\n",
    "normalise_data = torchvision.transforms.Compose(\n",
    "    [\n",
    "        torchvision.transforms.ToTensor(),\n",
    "        torchvision.transforms.Normalize((0.5,), (0.5,)),\n",
    "    ]\n",
    ")\n",
    "train_dataset = torchvision.datasets.MNIST(\n",
    "    \"MNIST\",\n",
    "    train=True,\n",
    "    download=True,\n",
    "    transform=normalise_data,\n",
    ")\n",
    "test_dataset = torchvision.datasets.MNIST(\n",
    "    \"MNIST\",\n",
    "    train=False,\n",
    "    download=True,\n",
    "    transform=normalise_data,\n",
    ")\n",
    "trainloader = torch.utils.data.DataLoader(\n",
    "    train_dataset, batch_size=BATCH_SIZE, shuffle=True\n",
    ")\n",
    "testloader = torch.utils.data.DataLoader(\n",
    "    test_dataset, batch_size=BATCH_SIZE, shuffle=True\n",
    ")\n"
   ]
  },
  {
   "cell_type": "code",
   "execution_count": 10,
   "id": "bf6b5c1a-51fd-4e5b-83da-c05ac26729a7",
   "metadata": {},
   "outputs": [
    {
     "data": {
      "text/plain": [
       "(64, 1, 28, 28)"
      ]
     },
     "execution_count": 10,
     "metadata": {},
     "output_type": "execute_result"
    }
   ],
   "source": [
    "next(iter(trainloader))[0].numpy().shape"
   ]
  },
  {
   "cell_type": "code",
   "execution_count": 20,
   "id": "464e14af-bf72-499c-9d28-a9a8fa450ff6",
   "metadata": {},
   "outputs": [],
   "source": [
    "def f(a, b):\n",
    "    return 2 * (a + b)"
   ]
  },
  {
   "cell_type": "code",
   "execution_count": 21,
   "id": "bf9bc50a-67aa-43e9-8eae-c6b951fbddab",
   "metadata": {},
   "outputs": [
    {
     "data": {
      "text/plain": [
       "(6, 6)"
      ]
     },
     "execution_count": 21,
     "metadata": {},
     "output_type": "execute_result"
    }
   ],
   "source": [
    "f(1, 2), f(2, 1)"
   ]
  },
  {
   "cell_type": "code",
   "execution_count": 15,
   "id": "e40c8608-0390-4679-80a2-e58b45fcdbe6",
   "metadata": {},
   "outputs": [],
   "source": [
    "a = jnp.asarray([1,2,3,4,5,6,7,8,9])"
   ]
  },
  {
   "cell_type": "code",
   "execution_count": 23,
   "id": "d65f194f-46ca-4b54-bf6f-278fdfc677ee",
   "metadata": {},
   "outputs": [
    {
     "data": {
      "text/plain": [
       "Array([ 6, 10, 14, 18, 22, 26, 30, 34, 38], dtype=int32)"
      ]
     },
     "execution_count": 23,
     "metadata": {},
     "output_type": "execute_result"
    }
   ],
   "source": [
    "f(a, a+1)"
   ]
  },
  {
   "cell_type": "code",
   "execution_count": 17,
   "id": "e7fef8a8-14bc-497b-82ae-d64c246bc14a",
   "metadata": {},
   "outputs": [],
   "source": [
    "b = a+1"
   ]
  },
  {
   "cell_type": "code",
   "execution_count": 18,
   "id": "bd93afb5-7b61-4784-a210-c6b4d891f120",
   "metadata": {},
   "outputs": [
    {
     "data": {
      "text/plain": [
       "Array([ 2,  3,  4,  5,  6,  7,  8,  9, 10], dtype=int32)"
      ]
     },
     "execution_count": 18,
     "metadata": {},
     "output_type": "execute_result"
    }
   ],
   "source": [
    "b\n"
   ]
  },
  {
   "cell_type": "code",
   "execution_count": 19,
   "id": "31e43673-97b3-4dbb-92a3-37616b895641",
   "metadata": {},
   "outputs": [
    {
     "data": {
      "text/plain": [
       "Array(330, dtype=int32)"
      ]
     },
     "execution_count": 19,
     "metadata": {},
     "output_type": "execute_result"
    }
   ],
   "source": [
    "jnp.vdot(a, b)"
   ]
  },
  {
   "cell_type": "code",
   "execution_count": null,
   "id": "8430292a-5a58-44d8-8363-5066d22dd135",
   "metadata": {},
   "outputs": [],
   "source": []
  }
 ],
 "metadata": {
  "kernelspec": {
   "display_name": "Python 3 (ipykernel)",
   "language": "python",
   "name": "python3"
  },
  "language_info": {
   "codemirror_mode": {
    "name": "ipython",
    "version": 3
   },
   "file_extension": ".py",
   "mimetype": "text/x-python",
   "name": "python",
   "nbconvert_exporter": "python",
   "pygments_lexer": "ipython3",
   "version": "3.11.10"
  }
 },
 "nbformat": 4,
 "nbformat_minor": 5
}
