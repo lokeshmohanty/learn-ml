{
 "cells": [
  {
   "cell_type": "markdown",
   "id": "dfea4d80-0a0b-4359-b926-bb152df5b661",
   "metadata": {},
   "source": [
    "# Learning Jax"
   ]
  },
  {
   "cell_type": "code",
   "execution_count": 1,
   "id": "57815d56-eab0-41e6-8121-3805df3fa742",
   "metadata": {},
   "outputs": [],
   "source": [
    "import jax.numpy as jnp\n",
    "from jax import grad, jit, vmap\n",
    "from jax import random"
   ]
  },
  {
   "cell_type": "markdown",
   "id": "b5fc9f79-88b0-476b-8ba5-b9007d7dc36a",
   "metadata": {},
   "source": [
    "## Random"
   ]
  },
  {
   "cell_type": "code",
   "execution_count": 2,
   "id": "9c5c6c8e-0269-44ce-9f7f-c2ba825f0991",
   "metadata": {},
   "outputs": [
    {
     "name": "stdout",
     "output_type": "stream",
     "text": [
      "[ 0.18784384 -1.2833426  -0.2710917   1.2490594   0.24447003]\n"
     ]
    }
   ],
   "source": [
    "key = random.PRNGKey(0)\n",
    "x = random.normal(key, (5,))\n",
    "print(x)"
   ]
  },
  {
   "cell_type": "code",
   "execution_count": 3,
   "id": "90affe6c-90c6-4920-89d6-9cb3b97e6d52",
   "metadata": {},
   "outputs": [
    {
     "name": "stdout",
     "output_type": "stream",
     "text": [
      "[[-0.03693258  2.0722866   1.0815089   6.9263883   3.0092132 ]\n",
      " [ 0.9707529  -6.4077487  -8.182107    0.8150119   4.252639  ]\n",
      " [-2.7588344   1.0454758   0.95263463  5.0854063   3.5394762 ]\n",
      " [-0.5709582   1.6280751   0.08682457 -1.3918499   6.1496844 ]\n",
      " [ 2.140759   -2.9827328  -5.349362    4.145323   -4.961085  ]\n",
      " [ 2.905119   -2.876446    1.6135756  -2.2219296   5.4326425 ]\n",
      " [ 6.063915   -6.4037433   0.41179213  5.587041    1.0331964 ]\n",
      " [ 2.0874434  -3.0014112   1.9685963   3.0231938  -3.959516  ]\n",
      " [-4.7406015   6.8884363   2.087616   -4.4552464   2.4031346 ]\n",
      " [-4.5939116   6.616922   -4.4128494   2.6713064  -6.8339257 ]]\n"
     ]
    }
   ],
   "source": [
    "x = random.normal(key, (10, 15), dtype=jnp.float32)\n",
    "y = random.normal(key, (15, 5),  dtype=jnp.float32)\n",
    "z = jnp.dot(x, y)\n",
    "print(z)"
   ]
  },
  {
   "cell_type": "markdown",
   "id": "3b36234a-1d93-49d8-b9d2-55f7ae823a4e",
   "metadata": {
    "jp-MarkdownHeadingCollapsed": true
   },
   "source": [
    "## Just-in-time compiler (JIT)"
   ]
  },
  {
   "cell_type": "code",
   "execution_count": 4,
   "id": "e2d6ef50-fac1-4cc0-9526-ac4b7be2ef2b",
   "metadata": {},
   "outputs": [
    {
     "name": "stdout",
     "output_type": "stream",
     "text": [
      "[[-0.06357998  2.175901    1.1355842   7.2727075   3.1596737 ]\n",
      " [ 1.0192904  -1.7506088  -1.7530096   0.8557625   4.4652705 ]\n",
      " [-1.6423883   1.0977496   1.0002663   5.3396764   3.7164497 ]\n",
      " [-0.76280075  1.7094789   0.09116579 -1.3175535   6.4571686 ]\n",
      " [ 2.2477968  -1.6646776  -1.7451687   4.3525887  -1.7412161 ]\n",
      " [ 3.0503747  -1.6547172   1.6942543  -1.563421    5.704274  ]\n",
      " [ 6.3671103  -1.7505972   0.43238172  5.8663926   1.0848563 ]\n",
      " [ 2.1918154  -1.6663214   2.0670261   3.1743534  -1.7200565 ]\n",
      " [-1.7381859   7.2328577   2.1919966  -1.7331287   2.523291  ]\n",
      " [-1.7357663   6.9477677  -1.7322464   2.8048716  -1.7516121 ]]\n",
      "[[-0.06357993  2.175901    1.1355842   7.2727075   3.1596737 ]\n",
      " [ 1.0192904  -1.7506088  -1.7530096   0.8557625   4.4652705 ]\n",
      " [-1.6423883   1.0977496   1.0002663   5.3396764   3.7164497 ]\n",
      " [-0.76280075  1.7094789   0.09116579 -1.3175535   6.4571686 ]\n",
      " [ 2.2477968  -1.6646776  -1.7451687   4.3525887  -1.7412161 ]\n",
      " [ 3.0503747  -1.6547172   1.6942543  -1.563421    5.704274  ]\n",
      " [ 6.3671103  -1.7505972   0.43238172  5.8663926   1.0848563 ]\n",
      " [ 2.1918154  -1.6663214   2.0670261   3.1743534  -1.7200565 ]\n",
      " [-1.7381859   7.2328577   2.1919966  -1.7331287   2.523291  ]\n",
      " [-1.7357663   6.9477677  -1.7322464   2.8048716  -1.7516121 ]]\n"
     ]
    }
   ],
   "source": [
    "def selu(x, alpha=1.67, lmbda=1.05):\n",
    "    return lmbda * jnp.where(x > 0, x, alpha * jnp.exp(x) - alpha)\n",
    "\n",
    "s = selu(z)\n",
    "s_jit = jit(selu)(z)\n",
    "print(s)\n",
    "print(s_jit)"
   ]
  },
  {
   "cell_type": "markdown",
   "id": "2099721e-129f-47d1-a66d-5798427aaf79",
   "metadata": {
    "jp-MarkdownHeadingCollapsed": true
   },
   "source": [
    "## AutoGrad (grad)"
   ]
  },
  {
   "cell_type": "code",
   "execution_count": 5,
   "id": "130cb1a9-7ff9-4b87-a0db-65ab7ebb4bc2",
   "metadata": {},
   "outputs": [
    {
     "name": "stdout",
     "output_type": "stream",
     "text": [
      "[0.25       0.19661197 0.10499357 0.04517666 0.01766271]\n"
     ]
    }
   ],
   "source": [
    "def sum_logistic(x):\n",
    "    return jnp.sum(1.0 / (1.0 + jnp.exp(-x)))\n",
    "\n",
    "w = jnp.arange(5.)\n",
    "v = grad(sum_logistic)(w)\n",
    "print(v)"
   ]
  },
  {
   "cell_type": "code",
   "execution_count": 6,
   "id": "72c5abfa-80cd-44c3-92d3-8e5118a29afc",
   "metadata": {},
   "outputs": [
    {
     "name": "stdout",
     "output_type": "stream",
     "text": [
      "[0.2501011  0.19669531 0.10490417 0.04529953 0.01764297]\n"
     ]
    }
   ],
   "source": [
    "def first_finite_differences(f, x):\n",
    "    eps = 1e-3\n",
    "    return jnp.array([(f(x + eps * v) - f(x - eps * v)) / (2 * eps) \n",
    "                      for v in jnp.eye(len(x))])\n",
    "\n",
    "print(first_finite_differences(sum_logistic, w))"
   ]
  },
  {
   "cell_type": "code",
   "execution_count": 7,
   "id": "af5ed2bc-d188-4f44-a63e-386a24938fdd",
   "metadata": {},
   "outputs": [],
   "source": [
    "from jax import jacfwd, jacrev \n",
    "# jax.vjp() -> reverse-mode vector jacobian products\n",
    "# jax.jvp() -> forward-mode jacobian vector products\n",
    "def hessian(f):\n",
    "    return jit(jacfwd(jacrev(f)))\n",
    "\n",
    "# print(hessian(sum_logistic)(z))"
   ]
  },
  {
   "cell_type": "markdown",
   "id": "57e9f9fa-0be2-4f2c-884d-07972676d357",
   "metadata": {
    "jp-MarkdownHeadingCollapsed": true
   },
   "source": [
    "## Auto vectorize (vmap)"
   ]
  },
  {
   "cell_type": "code",
   "execution_count": 8,
   "id": "3b21dc29-de29-413d-8e6e-8c0998156d29",
   "metadata": {},
   "outputs": [
    {
     "name": "stdout",
     "output_type": "stream",
     "text": [
      "[[ -4.4559917   10.582633    -6.589631    -9.125396   -17.868021  ]\n",
      " [  8.666637   -19.117474   -23.670912    -5.716485    -4.8673058 ]\n",
      " [  4.833417    22.061989   -14.900349    -3.7299807  -15.746187  ]\n",
      " [-11.834408   -11.38388     -6.1396027    8.757585    -5.0406666 ]\n",
      " [ 16.806973    -2.1090512  -13.47407     -8.805514     5.3359785 ]\n",
      " [ -2.6243715    3.4985855    0.6773355    3.641262    -5.2552104 ]\n",
      " [ 14.8428135   17.364367   -14.062406     1.7086288    7.708923  ]\n",
      " [ 11.895282     3.9323182  -11.907891    -4.6174564   11.009735  ]\n",
      " [-13.121435   -17.983427     2.3465488    0.90398437  -7.4857697 ]\n",
      " [ 20.753305     2.4128156   -3.3254943   -9.7962265   -1.6442086 ]]\n",
      "[[ -4.45599    10.582633   -6.589631   -9.125397  -17.868023 ]\n",
      " [  8.666637  -19.117474  -23.670906   -5.7164845  -4.867306 ]\n",
      " [  4.8334155  22.06199   -14.900349   -3.7299807 -15.746187 ]\n",
      " [-11.834404  -11.383881   -6.1396017   8.757582   -5.040668 ]\n",
      " [ 16.806973   -2.1090527 -13.47407    -8.805512    5.3359785]\n",
      " [ -2.624371    3.4985843   0.6773348   3.6412604  -5.2552094]\n",
      " [ 14.842814   17.364367  -14.062405    1.7086289   7.708923 ]\n",
      " [ 11.895285    3.9323177 -11.907892   -4.6174574  11.009737 ]\n",
      " [-13.121431  -17.983427    2.3465476   0.903986   -7.4857693]\n",
      " [ 20.753304    2.4128141  -3.3254943  -9.796225   -1.6442077]]\n",
      "[[ -4.45599    10.582633   -6.589631   -9.125397  -17.868023 ]\n",
      " [  8.666637  -19.117474  -23.670906   -5.7164845  -4.867306 ]\n",
      " [  4.8334155  22.06199   -14.900349   -3.7299807 -15.746187 ]\n",
      " [-11.834404  -11.383881   -6.1396017   8.757582   -5.040668 ]\n",
      " [ 16.806973   -2.1090527 -13.47407    -8.805512    5.3359785]\n",
      " [ -2.624371    3.4985843   0.6773348   3.6412604  -5.2552094]\n",
      " [ 14.842814   17.364367  -14.062405    1.7086289   7.708923 ]\n",
      " [ 11.895285    3.9323177 -11.907892   -4.6174574  11.009737 ]\n",
      " [-13.121431  -17.983427    2.3465476   0.903986   -7.4857693]\n",
      " [ 20.753304    2.4128141  -3.3254943  -9.796225   -1.6442077]]\n"
     ]
    }
   ],
   "source": [
    "mat = random.normal(key, (5, 100))\n",
    "batched_val = random.normal(key, (10, 100))\n",
    "\n",
    "@jit\n",
    "def apply_mat(v):\n",
    "    return jnp.dot(mat, v)\n",
    "\n",
    "@jit\n",
    "def naively_batched_apply_mat(batched):\n",
    "    return jnp.stack([apply_mat(v) for v in batched])\n",
    "\n",
    "@jit\n",
    "def batched_apply_mat(batched):\n",
    "    return jnp.dot(batched, mat.T)\n",
    "\n",
    "@jit\n",
    "def vmap_batched_apply_mat(batched):\n",
    "    return vmap(apply_mat)(batched)\n",
    "\n",
    "print(naively_batched_apply_mat(batched_val))\n",
    "print(batched_apply_mat(batched_val))\n",
    "print(vmap_batched_apply_mat(batched_val)) # auto vectorize qith vmap"
   ]
  },
  {
   "cell_type": "markdown",
   "id": "d7ded1ee-100a-4b31-ad7f-6a702c5f06cd",
   "metadata": {
    "jp-MarkdownHeadingCollapsed": true
   },
   "source": [
    "## From numpy to jax"
   ]
  },
  {
   "cell_type": "code",
   "execution_count": 9,
   "id": "3b3189e5-8db2-4fa6-877d-627c7e61d288",
   "metadata": {},
   "outputs": [
    {
     "data": {
      "image/png": "[encoded data removed]",
      "text/plain": [
       "<Figure size 640x480 with 1 Axes>"
      ]
     },
     "metadata": {},
     "output_type": "display_data"
    }
   ],
   "source": [
    "from matplotlib import pyplot as plt\n",
    "\n",
    "x = jnp.linspace(0, 10, 1000)\n",
    "y = 2 * jnp.sin(x) * jnp.cos(x)\n",
    "plt.plot(x, y);"
   ]
  },
  {
   "cell_type": "markdown",
   "id": "e6bfd3b7-2e66-432d-b0d3-a9815684732c",
   "metadata": {
    "jp-MarkdownHeadingCollapsed": true
   },
   "source": [
    "## Simple Neural network"
   ]
  },
  {
   "cell_type": "code",
   "execution_count": 10,
   "id": "21d7621b-eee6-4664-beac-e383b6c30d33",
   "metadata": {},
   "outputs": [
    {
     "name": "stdout",
     "output_type": "stream",
     "text": [
      "Params: [((784, 512), (1, 512)), ((512, 512), (1, 512)), ((512, 10), (1, 10))]\n"
     ]
    }
   ],
   "source": [
    "def random_layer_params(m, n, key, scale=1e-2):\n",
    "    w_key, b_key = random.split(key)\n",
    "    return scale * random.normal(w_key, (m, n)), scale * random.normal(b_key, (1, n))\n",
    "\n",
    "def init_network_params(sizes, key):\n",
    "    keys = random.split(key, len(sizes) - 1)\n",
    "    return [random_layer_params(m, n, k) for m, n, k in zip(sizes[:-1], sizes[1:], keys)]\n",
    "\n",
    "layer_sizes = [784, 512, 512, 10]\n",
    "step_size = 1e-2\n",
    "num_epochs = 10\n",
    "batch_size = 128\n",
    "n_targets = 10\n",
    "params = init_network_params(layer_sizes, random.PRNGKey(0))\n",
    "print(f\"Params: {[(m.shape, n.shape) for m, n in params]}\")"
   ]
  },
  {
   "cell_type": "code",
   "execution_count": 108,
   "id": "b368001b-02fa-4ed2-843c-77c32718b205",
   "metadata": {},
   "outputs": [
    {
     "name": "stdout",
     "output_type": "stream",
     "text": [
      "(2,) (3,) (2, 3)\n"
     ]
    }
   ],
   "source": [
    "a = jnp.array([1,2,3])\n",
    "b = jnp.array([[1,2,3], [4,5,6]])\n",
    "print(b.dot(a).shape, a.shape, b.shape)"
   ]
  },
  {
   "cell_type": "code",
   "execution_count": 124,
   "id": "3f049626-cccc-4def-8c28-eb559dbdad40",
   "metadata": {},
   "outputs": [],
   "source": [
    "from jax.scipy.special import logsumexp\n",
    "\n",
    "def relu(x):\n",
    "    return jnp.maximum(0, x)\n",
    "\n",
    "# def predict(params, images):\n",
    "#     m = len(images)\n",
    "#     inputs = images\n",
    "#     for w, b in params[:-1]:\n",
    "#         inputs = relu(inputs @ w + jnp.tile(b, (m, 1)))\n",
    "\n",
    "#     w, b = params[-1]\n",
    "#     outputs = inputs @ w + b\n",
    "#     return outputs - logsumexp(outputs)\n",
    "\n",
    "def predict(params, image):\n",
    "    inputs = image\n",
    "    for w, b in params[:-1]:\n",
    "        inputs = relu(w.T.dot(inputs) + b.reshape(b.shape[1],))\n",
    "\n",
    "    w, b = params[-1]\n",
    "    outputs = w.T.dot(inputs) + b.reshape(b.shape[1],)\n",
    "    return outputs - logsumexp(outputs)\n",
    "\n",
    "batched_predict = vmap(predict, in_axes=(None, 0))\n",
    "# batched_predict = predict"
   ]
  },
  {
   "cell_type": "code",
   "execution_count": 125,
   "id": "e2d0a4c5-9085-4f9e-b861-2b1c65d59182",
   "metadata": {},
   "outputs": [
    {
     "name": "stdout",
     "output_type": "stream",
     "text": [
      "[Array(0, dtype=int32), Array(0, dtype=int32), Array(0, dtype=int32), Array(0, dtype=int32), Array(0, dtype=int32), Array(0, dtype=int32), Array(0, dtype=int32), Array(0, dtype=int32), Array(0, dtype=int32), Array(0, dtype=int32)]\n"
     ]
    }
   ],
   "source": [
    "random_flattened_image = random.normal(random.PRNGKey(1), (10, 28 * 28))\n",
    "preds = [jnp.argmax(p) for p in predict(params, jnp.array(random_flattened_image)[0])]\n",
    "print(preds)"
   ]
  },
  {
   "cell_type": "code",
   "execution_count": 126,
   "id": "2b74ea94-1a42-4f44-8c5d-be20165dc3d5",
   "metadata": {},
   "outputs": [],
   "source": [
    "def one_hot(x, k, dtype=jnp.float32):\n",
    "  \"\"\"Create a one-hot encoding of x of size k.\"\"\"\n",
    "  return jnp.array(x[:, None] == jnp.arange(k), dtype)\n",
    "  \n",
    "def accuracy(params, images, targets):\n",
    "  target_class = jnp.argmax(targets, axis=1)\n",
    "  predicted_class = jnp.argmax(batched_predict(params, images), axis=1)\n",
    "  return jnp.mean(predicted_class == target_class)\n",
    "\n",
    "def loss(params, images, targets):\n",
    "  preds = batched_predict(params, images)\n",
    "  return -jnp.mean(preds * targets)\n",
    "\n",
    "@jit\n",
    "def update(params, x, y, step_size):\n",
    "  grads = grad(loss)(params, x, y)\n",
    "  return [(w - step_size * dw, b - step_size * db)\n",
    "          for (w, b), (dw, db) in zip(params, grads)]"
   ]
  },
  {
   "cell_type": "code",
   "execution_count": 129,
   "id": "61ce69b9-b14a-482e-b092-47ed2de9741e",
   "metadata": {},
   "outputs": [],
   "source": [
    "import time\n",
    "\n",
    "def get_train_batches():\n",
    "  ds = tfds.load(name='mnist', split='train', as_supervised=True, data_dir=data_dir)\n",
    "  ds = ds.batch(batch_size).prefetch(1)\n",
    "  return tfds.as_numpy(ds)\n",
    "\n",
    "def train(params, images, labels, test_images, test_labels, \n",
    "          learning_rate=1e-2, num_epochs=10, batch_size=128):\n",
    "    inputs = images\n",
    "    history = []\n",
    "    for epoch in range(num_epochs):\n",
    "        start_time = time.time()\n",
    "        for x, y in get_train_batches():\n",
    "            x = jnp.reshape(x, (len(x), num_pixels))\n",
    "            y = one_hot(y, num_labels)\n",
    "            params = update(params, x, y, learning_rate)\n",
    "        epoch_time = time.time() - start_time\n",
    "        train_acc = accuracy(params, images, labels)\n",
    "        val_acc = accuracy(params, test_images, test_labels)\n",
    "        print(\"Epoch {}, train_acc: {:0.4f}, val_acc: {:0.4f} in {:0.2f} sec\".format(epoch, train_acc, val_acc, epoch_time))\n",
    "        history.append({ \"epoch_time\": epoch_time, \"train_acc\": train_acc, \"val_acc\": val_acc })\n",
    "        \n",
    "    return params, history"
   ]
  },
  {
   "cell_type": "markdown",
   "id": "e3ee58e1-01e0-4c4f-a1c6-cff1c3937cd7",
   "metadata": {
    "jp-MarkdownHeadingCollapsed": true
   },
   "source": [
    "## Dataset"
   ]
  },
  {
   "cell_type": "code",
   "execution_count": 127,
   "id": "0bb64f86-2758-4612-ba13-17d2ed88cd2a",
   "metadata": {},
   "outputs": [],
   "source": [
    "import tensorflow as tf\n",
    "# Ensure TF does not see GPU and grab all GPU memory.\n",
    "tf.config.set_visible_devices([], device_type='GPU')\n",
    "\n",
    "import tensorflow_datasets as tfds\n",
    "\n",
    "data_dir = '/tmp/tfds'\n",
    "\n",
    "# Fetch full datasets for evaluation\n",
    "# tfds.load returns tf.Tensors (or tf.data.Datasets if batch_size != -1)\n",
    "# You can convert them to NumPy arrays (or iterables of NumPy arrays) with tfds.dataset_as_numpy\n",
    "mnist_data, info = tfds.load(name=\"mnist\", batch_size=-1, data_dir=data_dir, with_info=True)\n",
    "mnist_data = tfds.as_numpy(mnist_data)\n",
    "train_data, test_data = mnist_data['train'], mnist_data['test']\n",
    "num_labels = info.features['label'].num_classes\n",
    "h, w, c = info.features['image'].shape\n",
    "num_pixels = h * w * c\n",
    "\n",
    "# Full train set\n",
    "train_images, train_labels = train_data['image'], train_data['label']\n",
    "train_images = jnp.reshape(train_images, (len(train_images), num_pixels))\n",
    "train_labels = one_hot(train_labels, num_labels)\n",
    "\n",
    "# Full test set\n",
    "test_images, test_labels = test_data['image'], test_data['label']\n",
    "test_images = jnp.reshape(test_images, (len(test_images), num_pixels))\n",
    "test_labels = one_hot(test_labels, num_labels)\n"
   ]
  },
  {
   "cell_type": "code",
   "execution_count": 128,
   "id": "a6649cf7-6bf0-4685-b618-7a7fd7e85170",
   "metadata": {},
   "outputs": [
    {
     "name": "stdout",
     "output_type": "stream",
     "text": [
      "Train: (60000, 784) (60000, 10)\n",
      "Test: (10000, 784) (10000, 10)\n"
     ]
    }
   ],
   "source": [
    "print('Train:', train_images.shape, train_labels.shape)\n",
    "print('Test:', test_images.shape, test_labels.shape)"
   ]
  },
  {
   "cell_type": "code",
   "execution_count": 91,
   "id": "ddf4dfbe-5421-4f79-b199-d3ee225ea063",
   "metadata": {},
   "outputs": [
    {
     "name": "stdout",
     "output_type": "stream",
     "text": [
      "Epoch 0, train_acc: 0.9239, val_acc: 0.9249 in 0.95 sec\n",
      "Epoch 1, train_acc: 0.9414, val_acc: 0.9431 in 0.76 sec\n",
      "Epoch 2, train_acc: 0.9506, val_acc: 0.9503 in 0.76 sec\n",
      "Epoch 3, train_acc: 0.9564, val_acc: 0.9547 in 0.76 sec\n",
      "Epoch 4, train_acc: 0.9611, val_acc: 0.9597 in 0.76 sec\n",
      "Epoch 5, train_acc: 0.9647, val_acc: 0.9627 in 0.77 sec\n",
      "Epoch 6, train_acc: 0.9681, val_acc: 0.9648 in 0.76 sec\n",
      "Epoch 7, train_acc: 0.9707, val_acc: 0.9672 in 0.76 sec\n",
      "Epoch 8, train_acc: 0.9730, val_acc: 0.9684 in 0.76 sec\n",
      "Epoch 9, train_acc: 0.9748, val_acc: 0.9696 in 0.76 sec\n"
     ]
    }
   ],
   "source": [
    "model = train(params, train_images, train_labels, test_images, test_labels)"
   ]
  },
  {
   "cell_type": "code",
   "execution_count": 130,
   "id": "fe0d3f5a-8801-4d4b-abc2-5a12bb048fbc",
   "metadata": {},
   "outputs": [
    {
     "name": "stdout",
     "output_type": "stream",
     "text": [
      "Epoch 0, train_acc: 0.9225, val_acc: 0.9251 in 0.97 sec\n",
      "Epoch 1, train_acc: 0.9406, val_acc: 0.9410 in 0.76 sec\n",
      "Epoch 2, train_acc: 0.9515, val_acc: 0.9493 in 0.75 sec\n",
      "Epoch 3, train_acc: 0.9592, val_acc: 0.9551 in 0.75 sec\n",
      "Epoch 4, train_acc: 0.9645, val_acc: 0.9591 in 0.77 sec\n",
      "Epoch 5, train_acc: 0.9688, val_acc: 0.9619 in 0.76 sec\n",
      "Epoch 6, train_acc: 0.9721, val_acc: 0.9639 in 0.75 sec\n",
      "Epoch 7, train_acc: 0.9747, val_acc: 0.9658 in 0.75 sec\n",
      "Epoch 8, train_acc: 0.9767, val_acc: 0.9677 in 0.75 sec\n",
      "Epoch 9, train_acc: 0.9790, val_acc: 0.9692 in 0.76 sec\n"
     ]
    }
   ],
   "source": [
    "model = train(params, train_images, train_labels, test_images, test_labels)"
   ]
  },
  {
   "cell_type": "markdown",
   "id": "10845a82-0b78-4e6c-962d-a374074f88ae",
   "metadata": {
    "jp-MarkdownHeadingCollapsed": true
   },
   "source": [
    "## Flax"
   ]
  },
  {
   "cell_type": "code",
   "execution_count": 133,
   "id": "041ea113-babb-4910-aa0b-07cdf972307c",
   "metadata": {},
   "outputs": [
    {
     "name": "stdout",
     "output_type": "stream",
     "text": [
      "\n",
      "\u001b[3m                                  MLP Summary                                   \u001b[0m\n",
      "┏━━━━━━━━━┳━━━━━━━━┳━━━━━━━━━━━━┳━━━━━━━━━━━━┳━━━━━━━━━┳━━━━━━━━━━━┳━━━━━━━━━━━┓\n",
      "┃\u001b[1m \u001b[0m\u001b[1mpath   \u001b[0m\u001b[1m \u001b[0m┃\u001b[1m \u001b[0m\u001b[1mmodule\u001b[0m\u001b[1m \u001b[0m┃\u001b[1m \u001b[0m\u001b[1minputs    \u001b[0m\u001b[1m \u001b[0m┃\u001b[1m \u001b[0m\u001b[1moutputs   \u001b[0m\u001b[1m \u001b[0m┃\u001b[1m \u001b[0m\u001b[1mflops  \u001b[0m\u001b[1m \u001b[0m┃\u001b[1m \u001b[0m\u001b[1mvjp_flops\u001b[0m\u001b[1m \u001b[0m┃\u001b[1m \u001b[0m\u001b[1mparams   \u001b[0m\u001b[1m \u001b[0m┃\n",
      "┡━━━━━━━━━╇━━━━━━━━╇━━━━━━━━━━━━╇━━━━━━━━━━━━╇━━━━━━━━━╇━━━━━━━━━━━╇━━━━━━━━━━━┩\n",
      "│         │ MLP    │ \u001b[2mfloat32\u001b[0m[1… │ \u001b[2mfloat32\u001b[0m[1… │ 2570320 │ 8992434   │           │\n",
      "├─────────┼────────┼────────────┼────────────┼─────────┼───────────┼───────────┤\n",
      "│ Dense_0 │ Dense  │ \u001b[2mfloat32\u001b[0m[1… │ \u001b[2mfloat32\u001b[0m[1… │ 1230096 │ 4304160   │ bias:     │\n",
      "│         │        │            │            │         │           │ \u001b[2mfloat32\u001b[0m[… │\n",
      "│         │        │            │            │         │           │ kernel:   │\n",
      "│         │        │            │            │         │           │ \u001b[2mfloat32\u001b[0m[… │\n",
      "│         │        │            │            │         │           │           │\n",
      "│         │        │            │            │         │           │ \u001b[1m615,440 \u001b[0m  │\n",
      "│         │        │            │            │         │           │ \u001b[1;2m(2.5 MB)\u001b[0m  │\n",
      "├─────────┼────────┼────────────┼────────────┼─────────┼───────────┼───────────┤\n",
      "│ Dense_1 │ Dense  │ \u001b[2mfloat32\u001b[0m[1… │ \u001b[2mfloat32\u001b[0m[1… │ 803328  │ 2810880   │ bias:     │\n",
      "│         │        │            │            │         │           │ \u001b[2mfloat32\u001b[0m[… │\n",
      "│         │        │            │            │         │           │ kernel:   │\n",
      "│         │        │            │            │         │           │ \u001b[2mfloat32\u001b[0m[… │\n",
      "│         │        │            │            │         │           │           │\n",
      "│         │        │            │            │         │           │ \u001b[1m401,920 \u001b[0m  │\n",
      "│         │        │            │            │         │           │ \u001b[1;2m(1.6 MB)\u001b[0m  │\n",
      "├─────────┼────────┼────────────┼────────────┼─────────┼───────────┼───────────┤\n",
      "│ Dense_2 │ Dense  │ \u001b[2mfloat32\u001b[0m[1… │ \u001b[2mfloat32\u001b[0m[1… │ 524800  │ 1836032   │ bias:     │\n",
      "│         │        │            │            │         │           │ \u001b[2mfloat32\u001b[0m[… │\n",
      "│         │        │            │            │         │           │ kernel:   │\n",
      "│         │        │            │            │         │           │ \u001b[2mfloat32\u001b[0m[… │\n",
      "│         │        │            │            │         │           │           │\n",
      "│         │        │            │            │         │           │ \u001b[1m262,656 \u001b[0m  │\n",
      "│         │        │            │            │         │           │ \u001b[1;2m(1.1 MB)\u001b[0m  │\n",
      "├─────────┼────────┼────────────┼────────────┼─────────┼───────────┼───────────┤\n",
      "│ Dense_3 │ Dense  │ \u001b[2mfloat32\u001b[0m[1… │ \u001b[2mfloat32\u001b[0m[1… │ 10250   │ 35860     │ bias:     │\n",
      "│         │        │            │            │         │           │ \u001b[2mfloat32\u001b[0m[… │\n",
      "│         │        │            │            │         │           │ kernel:   │\n",
      "│         │        │            │            │         │           │ \u001b[2mfloat32\u001b[0m[… │\n",
      "│         │        │            │            │         │           │           │\n",
      "│         │        │            │            │         │           │ \u001b[1m5,130 \u001b[0m    │\n",
      "│         │        │            │            │         │           │ \u001b[1;2m(20.5 KB)\u001b[0m │\n",
      "├─────────┼────────┼────────────┼────────────┼─────────┼───────────┼───────────┤\n",
      "│\u001b[1m \u001b[0m\u001b[1m       \u001b[0m\u001b[1m \u001b[0m│\u001b[1m \u001b[0m\u001b[1m      \u001b[0m\u001b[1m \u001b[0m│\u001b[1m \u001b[0m\u001b[1m          \u001b[0m\u001b[1m \u001b[0m│\u001b[1m \u001b[0m\u001b[1m          \u001b[0m\u001b[1m \u001b[0m│\u001b[1m \u001b[0m\u001b[1m       \u001b[0m\u001b[1m \u001b[0m│\u001b[1m \u001b[0m\u001b[1m    Total\u001b[0m\u001b[1m \u001b[0m│\u001b[1m \u001b[0m\u001b[1m1,285,146\u001b[0m\u001b[1m \u001b[0m│\n",
      "│\u001b[1m         \u001b[0m│\u001b[1m        \u001b[0m│\u001b[1m            \u001b[0m│\u001b[1m            \u001b[0m│\u001b[1m         \u001b[0m│\u001b[1m           \u001b[0m│\u001b[1m \u001b[0m\u001b[1;2m(5.1 MB)\u001b[0m\u001b[1m \u001b[0m\u001b[1m \u001b[0m│\n",
      "└─────────┴────────┴────────────┴────────────┴─────────┴───────────┴───────────┘\n",
      "\u001b[1m                                                                                \u001b[0m\n",
      "\u001b[1m                      Total Parameters: 1,285,146 \u001b[0m\u001b[1;2m(5.1 MB)\u001b[0m\u001b[1m                      \u001b[0m\n",
      "\n",
      "\n"
     ]
    }
   ],
   "source": [
    "from typing import Sequence\n",
    "\n",
    "import flax.linen as nn\n",
    "\n",
    "class MLP(nn.Module):\n",
    "  layer_sizes: Sequence[int]\n",
    "\n",
    "  @nn.compact\n",
    "  def __call__(self, x):\n",
    "    for size in self.layer_sizes[:-1]:\n",
    "      x = nn.relu(nn.Dense(size)(x))\n",
    "    x = nn.Dense(self.layer_sizes[-1])(x)\n",
    "    x = nn.log_softmax(x)\n",
    "    return x\n",
    "\n",
    "layer_sizes = [784, 512, 512, 10]\n",
    "model = MLP(layer_sizes)\n",
    "print(model.tabulate(jax.random.key(0), jnp.ones((1, 784)), \n",
    "                     compute_flops=True, compute_vjp_flops=True))"
   ]
  },
  {
   "cell_type": "code",
   "execution_count": 136,
   "id": "8d5c09f1-0a25-4a2e-9956-97dcfcc1401c",
   "metadata": {},
   "outputs": [
    {
     "ename": "ModuleNotFoundError",
     "evalue": "No module named 'clu'",
     "output_type": "error",
     "traceback": [
      "\u001b[0;31m---------------------------------------------------------------------------\u001b[0m",
      "\u001b[0;31mModuleNotFoundError\u001b[0m                       Traceback (most recent call last)",
      "Cell \u001b[0;32mIn[136], line 1\u001b[0m\n\u001b[0;32m----> 1\u001b[0m \u001b[38;5;28;01mfrom\u001b[39;00m \u001b[38;5;21;01mclu\u001b[39;00m \u001b[38;5;28;01mimport\u001b[39;00m metrics\n\u001b[1;32m      2\u001b[0m \u001b[38;5;28;01mfrom\u001b[39;00m \u001b[38;5;21;01mflax\u001b[39;00m\u001b[38;5;21;01m.\u001b[39;00m\u001b[38;5;21;01mtraining\u001b[39;00m \u001b[38;5;28;01mimport\u001b[39;00m train_state\n\u001b[1;32m      3\u001b[0m \u001b[38;5;28;01mfrom\u001b[39;00m \u001b[38;5;21;01mflax\u001b[39;00m \u001b[38;5;28;01mimport\u001b[39;00m struct\n",
      "\u001b[0;31mModuleNotFoundError\u001b[0m: No module named 'clu'"
     ]
    }
   ],
   "source": [
    "from clu import metrics\n",
    "from flax.training import train_state\n",
    "from flax import struct\n",
    "import optax\n",
    "\n",
    "@struct.dataclass\n",
    "class Metrics(metrics.Collection):\n",
    "    accuracy: metrics.Accuracy\n",
    "    loss: metrics.Average.from_output('loss')\n",
    "\n",
    "class TrainState(train_state.TrainState):\n",
    "    metrics: Metrics\n",
    "\n",
    "def create_train_state(module, rng, learning_rate, momentum):\n",
    "    params = module.init(rng, jnp.ones([1, 784]))['params']\n",
    "    tx = optax.sgd(learning_rate, momentum)\n",
    "    return TrainState.create(\n",
    "        apply_fn=module.apply, params=params, tx=tx, \n",
    "        metrics=Metrics.empty())\n",
    "\n",
    "@jit\n",
    "def train_step(state, batch):\n",
    "    def loss_fn(params):\n",
    "        logits = state.apply_fn({'params': params}, batch['image'])\n",
    "        loss = optax.softmax_cross_entropy_with_integer_labels(\n",
    "            logits=logits, labels=batch['label']).mean()\n",
    "        return loss\n",
    "    grad_fn = jax.grad(loss_fn)\n",
    "    grads = grad_fn(state.params)\n",
    "    state = state.apply_gradients(grads=grads)\n",
    "    return state\n",
    "\n",
    "@jit\n",
    "def compute_metrics(*, state, batch):\n",
    "    logits = state.apply_fn({'params': state.params}, batch['image'])\n",
    "    loss = optax.softmax_cross_entropy_with_integer_labels(\n",
    "        logits=logits, labels=batch['label'], loss=loss)\n",
    "    metrics = state.metrics.merge(metric_updates)\n",
    "    state = state.replace(metrics=metrics)\n",
    "    return state"
   ]
  },
  {
   "cell_type": "code",
   "execution_count": 138,
   "id": "da8b40b7-08f1-48ae-b30b-8e63ae45da55",
   "metadata": {},
   "outputs": [
    {
     "name": "stderr",
     "output_type": "stream",
     "text": [
      "2023-12-07 12:36:28.752465: W tensorflow/tsl/platform/cloud/google_auth_provider.cc:184] All attempts to get a Google authentication bearer token failed, returning an empty token. Retrieving token from files failed with \"NOT_FOUND: Could not locate the credentials file.\". Retrieving token from GCE failed with \"FAILED_PRECONDITION: Error executing an HTTP request: libcurl code 6 meaning 'Couldn't resolve host name', error details: Could not resolve host: metadata.google.internal\".\n"
     ]
    },
    {
     "name": "stdout",
     "output_type": "stream",
     "text": [
      "\u001b[1mDownloading and preparing dataset 11.06 MiB (download: 11.06 MiB, generated: 21.00 MiB, total: 32.06 MiB) to /home/lokesh/tensorflow_datasets/mnist/3.0.1...\u001b[0m\n"
     ]
    },
    {
     "data": {
      "application/vnd.jupyter.widget-view+json": {
       "model_id": "326c575d27174f7daae80febb24e3a5d",
       "version_major": 2,
       "version_minor": 0
      },
      "text/plain": [
       "Dl Completed...:   0%|          | 0/5 [00:00<?, ? file/s]"
      ]
     },
     "metadata": {},
     "output_type": "display_data"
    },
    {
     "name": "stdout",
     "output_type": "stream",
     "text": [
      "\u001b[1mDataset mnist downloaded and prepared to /home/lokesh/tensorflow_datasets/mnist/3.0.1. Subsequent calls will reuse this data.\u001b[0m\n"
     ]
    },
    {
     "ename": "NameError",
     "evalue": "name 'create_train_state' is not defined",
     "output_type": "error",
     "traceback": [
      "\u001b[0;31m---------------------------------------------------------------------------\u001b[0m",
      "\u001b[0;31mNameError\u001b[0m                                 Traceback (most recent call last)",
      "Cell \u001b[0;32mIn[138], line 30\u001b[0m\n\u001b[1;32m     27\u001b[0m learning_rate \u001b[38;5;241m=\u001b[39m \u001b[38;5;241m0.01\u001b[39m\n\u001b[1;32m     28\u001b[0m momentum \u001b[38;5;241m=\u001b[39m \u001b[38;5;241m0.9\u001b[39m\n\u001b[0;32m---> 30\u001b[0m state \u001b[38;5;241m=\u001b[39m \u001b[43mcreate_train_state\u001b[49m(cnn, init_rng, learning_rate, momentum)\n\u001b[1;32m     32\u001b[0m num_steps_per_epoch \u001b[38;5;241m=\u001b[39m train_ds\u001b[38;5;241m.\u001b[39mcardinality()\u001b[38;5;241m.\u001b[39mnumpy() \u001b[38;5;241m/\u001b[39m\u001b[38;5;241m/\u001b[39m num_epochs\n\u001b[1;32m     33\u001b[0m metrics_history \u001b[38;5;241m=\u001b[39m {\u001b[38;5;124m'\u001b[39m\u001b[38;5;124mtrain_loss\u001b[39m\u001b[38;5;124m'\u001b[39m: [],\n\u001b[1;32m     34\u001b[0m                    \u001b[38;5;124m'\u001b[39m\u001b[38;5;124mtrain_accuracy\u001b[39m\u001b[38;5;124m'\u001b[39m: [],\n\u001b[1;32m     35\u001b[0m                    \u001b[38;5;124m'\u001b[39m\u001b[38;5;124mtest_loss\u001b[39m\u001b[38;5;124m'\u001b[39m: [],\n\u001b[1;32m     36\u001b[0m                    \u001b[38;5;124m'\u001b[39m\u001b[38;5;124mtest_accuracy\u001b[39m\u001b[38;5;124m'\u001b[39m: []}\n",
      "\u001b[0;31mNameError\u001b[0m: name 'create_train_state' is not defined"
     ]
    }
   ],
   "source": [
    "num_epochs = 10\n",
    "batch_size = 32\n",
    "\n",
    "def get_datasets(num_epochs, batch_size):\n",
    "  \"\"\"Load MNIST train and test datasets into memory.\"\"\"\n",
    "  train_ds = tfds.load('mnist', split='train')\n",
    "  test_ds = tfds.load('mnist', split='test')\n",
    "\n",
    "  train_ds = train_ds.map(lambda sample: {'image': tf.cast(sample['image'],\n",
    "                                                           tf.float32) / 255.,\n",
    "                                          'label': sample['label']}) # normalize train set\n",
    "  test_ds = test_ds.map(lambda sample: {'image': tf.cast(sample['image'],\n",
    "                                                         tf.float32) / 255.,\n",
    "                                        'label': sample['label']}) # normalize test set\n",
    "\n",
    "  train_ds = train_ds.repeat(num_epochs).shuffle(1024) # create shuffled dataset by allocating a buffer size of 1024 to randomly draw elements from\n",
    "  train_ds = train_ds.batch(batch_size, drop_remainder=True).prefetch(1) # group into batches of batch_size and skip incomplete batch, prefetch the next sample to improve latency\n",
    "  test_ds = test_ds.shuffle(1024) # create shuffled dataset by allocating a buffer size of 1024 to randomly draw elements from\n",
    "  test_ds = test_ds.batch(batch_size, drop_remainder=True).prefetch(1) # group into batches of batch_size and skip incomplete batch, prefetch the next sample to improve latency\n",
    "\n",
    "  return train_ds, test_ds\n",
    "\n",
    "train_ds, test_ds = get_datasets(num_epochs, batch_size)\n",
    "tf.random.set_seed(0)\n",
    "init_rng = jax.random.key(0)\n",
    "\n",
    "learning_rate = 0.01\n",
    "momentum = 0.9\n",
    "\n",
    "state = create_train_state(cnn, init_rng, learning_rate, momentum)\n",
    "\n",
    "num_steps_per_epoch = train_ds.cardinality().numpy() // num_epochs\n",
    "metrics_history = {'train_loss': [],\n",
    "                   'train_accuracy': [],\n",
    "                   'test_loss': [],\n",
    "                   'test_accuracy': []}\n",
    "\n",
    "for step,batch in enumerate(train_ds.as_numpy_iterator()):\n",
    "  # Run optimization steps over training batches and compute batch metrics\n",
    "  state = train_step(state, batch) # get updated train state (which contains the updated parameters)\n",
    "  state = compute_metrics(state=state, batch=batch) # aggregate batch metrics\n",
    "\n",
    "  if (step+1) % num_steps_per_epoch == 0: # one training epoch has passed\n",
    "    for metric,value in state.metrics.compute().items(): # compute metrics\n",
    "      metrics_history[f'train_{metric}'].append(value) # record metrics\n",
    "    state = state.replace(metrics=state.metrics.empty()) # reset train_metrics for next training epoch\n",
    "\n",
    "    # Compute metrics on the test set after each training epoch\n",
    "    test_state = state\n",
    "    for test_batch in test_ds.as_numpy_iterator():\n",
    "      test_state = compute_metrics(state=test_state, batch=test_batch)\n",
    "\n",
    "    for metric,value in test_state.metrics.compute().items():\n",
    "      metrics_history[f'test_{metric}'].append(value)\n",
    "\n",
    "    print(f\"train epoch: {(step+1) // num_steps_per_epoch}, \"\n",
    "          f\"loss: {metrics_history['train_loss'][-1]}, \"\n",
    "          f\"acc: {metrics_history['train_acc'][-1]}\")\n",
    "    print(f\"test epoch: {(step+1) // num_steps_per_epoch}, \"\n",
    "          f\"loss: {metrics_history['test_loss'][-1]}, \"\n",
    "          f\"acc: {metrics_history['test_acc'][-1]}\")"
   ]
  },
  {
   "cell_type": "markdown",
   "id": "c1145949-6e63-4ead-b2d5-ea6e2a1aaa92",
   "metadata": {},
   "source": [
    "## Equinox"
   ]
  },
  {
   "cell_type": "code",
   "execution_count": 139,
   "id": "aa900840-69ba-428c-a0d6-ef52d814a79d",
   "metadata": {},
   "outputs": [],
   "source": [
    "import equinox as eqx\n",
    "import jax\n",
    "\n",
    "class Linear(eqx.Module):\n",
    "    weight: jax.Array\n",
    "    bias: jax.Array\n",
    "\n",
    "    def __init__(self, in_size, out_size, key):\n",
    "        wkey, bkey = jax.random.split(key)\n",
    "        self.weight = jax.random.normal(wkey, (out_size, in_size))\n",
    "        self.bias = jax.random.normal(bkey, (out_size,))\n",
    "\n",
    "    def __call__(self, x):\n",
    "        return self.weight @ x + self.bias\n",
    "\n",
    "@jax.jit\n",
    "@jax.grad\n",
    "def loss_fn(model, x, y):\n",
    "    pred_y = jax.vmap(model)(x)\n",
    "    return jax.numpy.mean((y - pred_y) ** 2)\n",
    "\n",
    "batch_size, in_size, out_size = 32, 2, 3\n",
    "model = Linear(in_size, out_size, key=jax.random.PRNGKey(0))\n",
    "x = jax.numpy.zeros((batch_size, in_size))\n",
    "y = jax.numpy.zeros((batch_size, out_size))\n",
    "grads = loss_fn(model, x, y)"
   ]
  },
  {
   "cell_type": "code",
   "execution_count": null,
   "id": "6bc6710b-3153-4c4d-8cf4-ab1da94412c5",
   "metadata": {},
   "outputs": [],
   "source": []
  }
 ],
 "metadata": {
  "kernelspec": {
   "display_name": "Python 3 (ipykernel)",
   "language": "python",
   "name": "python3"
  },
  "language_info": {
   "codemirror_mode": {
    "name": "ipython",
    "version": 3
   },
   "file_extension": ".py",
   "mimetype": "text/x-python",
   "name": "python",
   "nbconvert_exporter": "python",
   "pygments_lexer": "ipython3",
   "version": "3.11.5"
  }
 },
 "nbformat": 4,
 "nbformat_minor": 5
}
